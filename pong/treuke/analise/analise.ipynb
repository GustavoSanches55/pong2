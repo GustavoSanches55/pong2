{
 "cells": [
  {
   "cell_type": "code",
   "execution_count": 245,
   "metadata": {},
   "outputs": [],
   "source": [
    "import pandas as pd\n",
    "import numpy as np\n",
    "import matplotlib.pyplot as plt\n",
    "import matplotlib as mpl"
   ]
  },
  {
   "cell_type": "markdown",
   "metadata": {},
   "source": [
    "O quão frustrante o jogo pode ser para certos jogadores?"
   ]
  },
  {
   "cell_type": "markdown",
   "metadata": {},
   "source": [
    "A ideia principal é analisar as quantias de derrotas e o tempo de jogo, para poder ter algum insight sobre essa pergunta"
   ]
  },
  {
   "cell_type": "code",
   "execution_count": 225,
   "metadata": {},
   "outputs": [],
   "source": [
    "df_players = pd.read_csv(\"jogadores.csv\")\n",
    "df_matches = pd.read_csv(\"partidas.csv\")"
   ]
  },
  {
   "cell_type": "code",
   "execution_count": 252,
   "metadata": {},
   "outputs": [],
   "source": [
    "mpl.rcParams['axes.facecolor'] = \"#FFFFFF00\"\n",
    "mpl.rcParams['figure.facecolor'] = \"#FFFFFF00\"\n",
    "mpl.rcParams['text.color'] = \"white\"\n",
    "mpl.rcParams['axes.labelcolor'] = \"white\"\n",
    "mpl.rcParams['xtick.color'] = \"white\"\n",
    "mpl.rcParams['ytick.color'] = \"white\""
   ]
  },
  {
   "cell_type": "code",
   "execution_count": 226,
   "metadata": {},
   "outputs": [],
   "source": [
    "df_players = df_players[[\"nome\",\"rank\",\"idade\",\"email\"]]\n",
    "df_matches_with_draw = df_matches.copy()\n",
    "df_matches = df_matches[df_matches[\"score1\"]!=df_matches[\"score2\"]].reset_index(drop = True)"
   ]
  },
  {
   "cell_type": "code",
   "execution_count": 227,
   "metadata": {},
   "outputs": [
    {
     "data": {
      "text/html": [
       "<div>\n",
       "<style scoped>\n",
       "    .dataframe tbody tr th:only-of-type {\n",
       "        vertical-align: middle;\n",
       "    }\n",
       "\n",
       "    .dataframe tbody tr th {\n",
       "        vertical-align: top;\n",
       "    }\n",
       "\n",
       "    .dataframe thead th {\n",
       "        text-align: right;\n",
       "    }\n",
       "</style>\n",
       "<table border=\"1\" class=\"dataframe\">\n",
       "  <thead>\n",
       "    <tr style=\"text-align: right;\">\n",
       "      <th></th>\n",
       "      <th>nome</th>\n",
       "      <th>rank</th>\n",
       "      <th>idade</th>\n",
       "      <th>email</th>\n",
       "      <th>vitorias</th>\n",
       "      <th>partidas-jogadas</th>\n",
       "      <th>derrotas</th>\n",
       "      <th>perc_vit</th>\n",
       "    </tr>\n",
       "  </thead>\n",
       "  <tbody>\n",
       "    <tr>\n",
       "      <th>447</th>\n",
       "      <td>Patata414</td>\n",
       "      <td>2</td>\n",
       "      <td>20</td>\n",
       "      <td>Patata414@gmail.com</td>\n",
       "      <td>0</td>\n",
       "      <td>16</td>\n",
       "      <td>16</td>\n",
       "      <td>0.000000</td>\n",
       "    </tr>\n",
       "    <tr>\n",
       "      <th>514</th>\n",
       "      <td>Jinx305</td>\n",
       "      <td>10</td>\n",
       "      <td>10</td>\n",
       "      <td>Jinx305@hotmail.com</td>\n",
       "      <td>1</td>\n",
       "      <td>13</td>\n",
       "      <td>12</td>\n",
       "      <td>0.076923</td>\n",
       "    </tr>\n",
       "    <tr>\n",
       "      <th>59</th>\n",
       "      <td>Flixzer</td>\n",
       "      <td>1</td>\n",
       "      <td>16</td>\n",
       "      <td>Flixzer@gmail.com</td>\n",
       "      <td>0</td>\n",
       "      <td>11</td>\n",
       "      <td>11</td>\n",
       "      <td>0.000000</td>\n",
       "    </tr>\n",
       "    <tr>\n",
       "      <th>173</th>\n",
       "      <td>Hiei</td>\n",
       "      <td>0</td>\n",
       "      <td>13</td>\n",
       "      <td>Hiei@hotmail.com</td>\n",
       "      <td>0</td>\n",
       "      <td>11</td>\n",
       "      <td>11</td>\n",
       "      <td>0.000000</td>\n",
       "    </tr>\n",
       "    <tr>\n",
       "      <th>301</th>\n",
       "      <td>Slambert_32</td>\n",
       "      <td>13</td>\n",
       "      <td>15</td>\n",
       "      <td>Slambert_32@hotmail.com</td>\n",
       "      <td>2</td>\n",
       "      <td>13</td>\n",
       "      <td>11</td>\n",
       "      <td>0.153846</td>\n",
       "    </tr>\n",
       "    <tr>\n",
       "      <th>394</th>\n",
       "      <td>charlesjogos_11</td>\n",
       "      <td>0</td>\n",
       "      <td>20</td>\n",
       "      <td>charlesjogos_11@gmail.com</td>\n",
       "      <td>0</td>\n",
       "      <td>11</td>\n",
       "      <td>11</td>\n",
       "      <td>0.000000</td>\n",
       "    </tr>\n",
       "    <tr>\n",
       "      <th>544</th>\n",
       "      <td>BlackBlockShock986</td>\n",
       "      <td>0</td>\n",
       "      <td>21</td>\n",
       "      <td>BlackBlockShock986@gmail.com</td>\n",
       "      <td>0</td>\n",
       "      <td>10</td>\n",
       "      <td>10</td>\n",
       "      <td>0.000000</td>\n",
       "    </tr>\n",
       "    <tr>\n",
       "      <th>527</th>\n",
       "      <td>Miller561</td>\n",
       "      <td>18</td>\n",
       "      <td>26</td>\n",
       "      <td>Miller561@gmail.com</td>\n",
       "      <td>4</td>\n",
       "      <td>14</td>\n",
       "      <td>10</td>\n",
       "      <td>0.285714</td>\n",
       "    </tr>\n",
       "    <tr>\n",
       "      <th>559</th>\n",
       "      <td>Tokoyami468</td>\n",
       "      <td>0</td>\n",
       "      <td>22</td>\n",
       "      <td>Tokoyami468@gmail.com</td>\n",
       "      <td>0</td>\n",
       "      <td>10</td>\n",
       "      <td>10</td>\n",
       "      <td>0.000000</td>\n",
       "    </tr>\n",
       "    <tr>\n",
       "      <th>510</th>\n",
       "      <td>Vox388</td>\n",
       "      <td>10</td>\n",
       "      <td>22</td>\n",
       "      <td>Vox388@outlook.com</td>\n",
       "      <td>0</td>\n",
       "      <td>10</td>\n",
       "      <td>10</td>\n",
       "      <td>0.000000</td>\n",
       "    </tr>\n",
       "  </tbody>\n",
       "</table>\n",
       "</div>"
      ],
      "text/plain": [
       "                   nome  rank  idade                         email  vitorias  \\\n",
       "447           Patata414     2     20           Patata414@gmail.com         0   \n",
       "514             Jinx305    10     10           Jinx305@hotmail.com         1   \n",
       "59              Flixzer     1     16             Flixzer@gmail.com         0   \n",
       "173                Hiei     0     13              Hiei@hotmail.com         0   \n",
       "301         Slambert_32    13     15       Slambert_32@hotmail.com         2   \n",
       "394     charlesjogos_11     0     20     charlesjogos_11@gmail.com         0   \n",
       "544  BlackBlockShock986     0     21  BlackBlockShock986@gmail.com         0   \n",
       "527           Miller561    18     26           Miller561@gmail.com         4   \n",
       "559         Tokoyami468     0     22         Tokoyami468@gmail.com         0   \n",
       "510              Vox388    10     22            Vox388@outlook.com         0   \n",
       "\n",
       "     partidas-jogadas  derrotas  perc_vit  \n",
       "447                16        16  0.000000  \n",
       "514                13        12  0.076923  \n",
       "59                 11        11  0.000000  \n",
       "173                11        11  0.000000  \n",
       "301                13        11  0.153846  \n",
       "394                11        11  0.000000  \n",
       "544                10        10  0.000000  \n",
       "527                14        10  0.285714  \n",
       "559                10        10  0.000000  \n",
       "510                10        10  0.000000  "
      ]
     },
     "execution_count": 227,
     "metadata": {},
     "output_type": "execute_result"
    }
   ],
   "source": [
    "df_matches[\"p1_venceu\"] = (df_matches[\"score1\"]>df_matches[\"score2\"])\n",
    "df_players[\"vitorias\"] = 0\n",
    "df_players[\"partidas-jogadas\"] = 0\n",
    "for i in range(df_matches.shape[0]):\n",
    "    linha = df_matches.iloc[i]\n",
    "    win = linha[\"p1_venceu\"].copy()\n",
    "    p1 = linha[\"p1\"].copy()\n",
    "    p2 = linha[\"p2\"].copy()\n",
    "    if win:\n",
    "        n = df_players.loc[p1,\"vitorias\"].copy() + 1\n",
    "        df_players.loc[p1,\"vitorias\"] = n.copy()\n",
    "    else:\n",
    "        n = df_players.loc[p2,\"vitorias\"].copy() + 1\n",
    "        df_players.loc[p2,\"vitorias\"] = n.copy()\n",
    "    n = df_players.loc[p1,\"partidas-jogadas\"].copy() + 1\n",
    "    df_players.loc[p1,\"partidas-jogadas\"] = n.copy()\n",
    "\n",
    "    n = df_players.loc[p2,\"partidas-jogadas\"].copy() + 1\n",
    "    df_players.loc[p2,\"partidas-jogadas\"] = n.copy()\n",
    "\n",
    "df_players[\"derrotas\"]=df_players[\"partidas-jogadas\"]-df_players[\"vitorias\"]\n",
    "df_players[\"perc_vit\"]=df_players[\"vitorias\"]/df_players[\"partidas-jogadas\"]\n",
    "df_players.sort_values(by=[\"derrotas\"],ascending=False).head(10)"
   ]
  },
  {
   "cell_type": "markdown",
   "metadata": {},
   "source": [
    "Encontramos então a seleção de jogadores que mais perderam, o lider deles é curiosamente o jogador que também tem o maior numero de partidas... E ele perdeu todas... Pobre Patata414."
   ]
  },
  {
   "cell_type": "code",
   "execution_count": 256,
   "metadata": {},
   "outputs": [
    {
     "data": {
      "image/png": "[encoded data removed]",
      "text/plain": [
       "<Figure size 432x288 with 1 Axes>"
      ]
     },
     "metadata": {
      "needs_background": "dark"
     },
     "output_type": "display_data"
    }
   ],
   "source": [
    "plt.hist(df_players[\"derrotas\"],50, facecolor=\"#254bb1\")\n",
    "plt.xlabel('N. Derrotas')\n",
    "plt.ylabel('Frequencia')\n",
    "plt.title('Distribuição de derrotas')\n",
    "plt.savefig(\"teste\")"
   ]
  },
  {
   "cell_type": "code",
   "execution_count": 261,
   "metadata": {},
   "outputs": [
    {
     "data": {
      "image/png": "[encoded data removed]",
      "text/plain": [
       "<Figure size 432x288 with 1 Axes>"
      ]
     },
     "metadata": {
      "needs_background": "dark"
     },
     "output_type": "display_data"
    }
   ],
   "source": [
    "plt.scatter(df_players[\"idade\"],df_players[\"perc_vit\"], color=\"#52219a\")\n",
    "plt.xlabel('Idade')\n",
    "plt.ylabel('Taxa de vitoria')\n",
    "plt.title('Relação entre idade e sucesso')\n",
    "plt.show()"
   ]
  },
  {
   "cell_type": "markdown",
   "metadata": {},
   "source": [
    "A partir dessa visualização, é possível dizer que a idade não possui influencia considerável para a taxa de sucesso."
   ]
  },
  {
   "cell_type": "code",
   "execution_count": 262,
   "metadata": {},
   "outputs": [
    {
     "data": {
      "text/plain": [
       "<matplotlib.collections.PathCollection at 0x1d68b3704c0>"
      ]
     },
     "execution_count": 262,
     "metadata": {},
     "output_type": "execute_result"
    },
    {
     "data": {
      "image/png": "[encoded data removed]",
      "text/plain": [
       "<Figure size 432x288 with 1 Axes>"
      ]
     },
     "metadata": {
      "needs_background": "dark"
     },
     "output_type": "display_data"
    }
   ],
   "source": [
    "df_matches = df_matches_with_draw.copy()\n",
    "df = pd.merge(df_matches, df_players.reset_index(), left_on=\"p1\", right_on=\"index\")[[\"p1\",\"p2\",\"score1\",\"score2\",\"tempo\",\"nome\",\"rank\"]]\n",
    "df.rename(columns={\"nome\":\"p1_nome\",\"rank\":\"p1_rank\"}, inplace=True)\n",
    "df = pd.merge(df, df_players.reset_index(), left_on=\"p2\", right_on=\"index\")[[\"p1\",\"p2\",\"score1\",\"score2\",\"tempo\",\"p1_nome\",\"p1_rank\",\"nome\",\"rank\"]]\n",
    "df.rename(columns={\"nome\":\"p2_nome\",\"rank\":\"p2_rank\"}, inplace=True)\n",
    "df[\"diferenca\"] = abs(df[\"p1_rank\"] - df[\"p2_rank\"])\n",
    "\n",
    "# mpl.rcParams['axes.facecolor'] = \"#1f1f1f\"\n",
    "# mpl.rcParams['figure.facecolor'] = \"#1f1f1f\"\n",
    "# mpl.rcParams['text.color'] = \"white\"\n",
    "# mpl.rcParams['axes.labelcolor'] = \"white\"\n",
    "# mpl.rcParams['xtick.color'] = \"white\"\n",
    "# mpl.rcParams['ytick.color'] = \"white\"\n",
    "\n",
    "plt.xlabel('Tempo em segundos')\n",
    "plt.ylabel('Diferença de mmr')\n",
    "plt.title('Duração de partidas X desnível de mmr')\n",
    "\n",
    "\n",
    "plt.scatter(df[\"tempo\"],df[\"diferenca\"],color=\"#254bb1\" )"
   ]
  },
  {
   "cell_type": "markdown",
   "metadata": {},
   "source": [
    "Temos uma linha vertical sobre o 600, pois 10 minutos é o tempo normal de uma partida, mas podemos perceber que com diferenças mais altas, ocorre uma derrota muita rápida do oponente por limite de pontos. E em partidas equilibradas, é comum ir para a prorrogação e demorar mais.\n",
    "(além disso tem um ponto alí que é algum erro na base, mas poderia ser um hacker identificado)"
   ]
  },
  {
   "cell_type": "markdown",
   "metadata": {},
   "source": []
  }
 ],
 "metadata": {
  "interpreter": {
   "hash": "63fd5069d213b44bf678585dea6b12cceca9941eaf7f819626cde1f2670de90d"
  },
  "kernelspec": {
   "display_name": "Python 3.9.5 64-bit",
   "language": "python",
   "name": "python3"
  },
  "language_info": {
   "codemirror_mode": {
    "name": "ipython",
    "version": 3
   },
   "file_extension": ".py",
   "mimetype": "text/x-python",
   "name": "python",
   "nbconvert_exporter": "python",
   "pygments_lexer": "ipython3",
   "version": "3.9.7"
  },
  "orig_nbformat": 4
 },
 "nbformat": 4,
 "nbformat_minor": 2
}
